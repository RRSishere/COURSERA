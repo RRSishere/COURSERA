{
  "metadata": {
    "language_info": {
      "file_extension": ".py",
      "mimetype": "text/x-python",
      "name": "python",
      "version": "3.10.2"
    },
    "kernelspec": {
      "name": "xeus-python",
      "display_name": "Python (XPython)",
      "language": "python"
    }
  },
  "nbformat_minor": 4,
  "nbformat": 4,
  "cells": [
    {
      "cell_type": "markdown",
      "source": "## MY NOTEBOOK\n",
      "metadata": {}
    },
    {
      "cell_type": "markdown",
      "source": "INTRODUCTION",
      "metadata": {}
    },
    {
      "cell_type": "markdown",
      "source": "some of the popular lannguages are:\n    1.python\n    2.R\n    3.java\n    4.c++",
      "metadata": {}
    },
    {
      "cell_type": "markdown",
      "source": "some of the liabraries are:\n    1.tenserflow\n    2.Numpy\n    3.Scipy\n    4.Pandas\n    5.matplotlib\n    6.keras\n    7.scikit-learn\n    8.pytorch\n",
      "metadata": {}
    },
    {
      "cell_type": "markdown",
      "source": "|data science tools|\n|---|\n|SAS|\n|apache hadoop|\n|tenserflow|",
      "metadata": {}
    },
    {
      "cell_type": "markdown",
      "source": "### Introducing Arithematic Expression Examples",
      "metadata": {}
    },
    {
      "cell_type": "code",
      "source": "#code cell to add and multiply the numbers\n(5+4)*4",
      "metadata": {
        "trusted": true
      },
      "execution_count": 2,
      "outputs": [
        {
          "execution_count": 2,
          "output_type": "execute_result",
          "data": {
            "text/plain": "36"
          },
          "metadata": {}
        }
      ]
    },
    {
      "cell_type": "code",
      "source": "# convertign 180 minutes to hours\n180/60\n",
      "metadata": {
        "trusted": true
      },
      "execution_count": 3,
      "outputs": [
        {
          "execution_count": 3,
          "output_type": "execute_result",
          "data": {
            "text/plain": "3.0"
          },
          "metadata": {}
        }
      ]
    },
    {
      "cell_type": "markdown",
      "source": "__objective__\n* list popular languages for Data science\n* list popular languages for Data science\n* list of well known Data Science Tools\n* How to Provide comments in the cell\n",
      "metadata": {}
    },
    {
      "cell_type": "markdown",
      "source": "## Author\nRitik ",
      "metadata": {}
    },
    {
      "cell_type": "code",
      "source": "",
      "metadata": {},
      "execution_count": null,
      "outputs": []
    }
  ]
}